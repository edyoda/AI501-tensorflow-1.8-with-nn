{
 "cells": [
  {
   "cell_type": "markdown",
   "metadata": {},
   "source": [
    "## 1.6 Matrix Operations \n",
    "There are two major matix Operations which are important for us.\n",
    "1. Inner Product\n",
    "  * Vector Vector\n",
    "  * Matrix Vector \n",
    "  * Matrix Matrix\n",
    "2. Outer product\n",
    "\n",
    "#### 1.6.1 Inner Product\n",
    "In terms of Inner Product or Dot product, <v,w> will be be nothing but sum of element wise product.\n",
    "$$<v,w> = \\sum v_i*w_i = \\begin{bmatrix} v_0 & v_1 & \\cdots & v_n \\end{bmatrix}\\begin{bmatrix} w_0 \\\\ w_1 \\\\ \\cdots \\\\ w_n \\end{bmatrix}$$\n",
    "So, the dot product between vector $v=[1,2,3]$ and  $w=[2,4,6]$ will be \n",
    "$$\\begin{align}1*2 + 2*4 + 3*6 \\\\ 2+8+18 \\\\ 28\\end{align}$$  \n",
    "We will be covering matrix matrix multiplication in much depth in next-to-next chapter, but you can take it for granted as of now.\n",
    "#### 1.6.2 Outer Product\n",
    "The **outer product** on other end is \n",
    "$$\\begin{bmatrix} v_0 \\\\ v_1 \\\\ \\cdots \\\\ v_n \\end{bmatrix}\\begin{bmatrix} w_0 & w_1 & \\cdots & w_n \\end{bmatrix} = \\begin{bmatrix}v_0w_0 & \\cdots & v_0w_j & \\cdots & v_0w_n \\\\ \\vdots && \\vdots && \\vdots \\\\ v_iw_0 & \\cdots & v_iw_j & \\cdots & v_iw_n \\\\ \\vdots && \\vdots && \\vdots \\\\ v_nw_0 & \\cdots & v_nw_j & \\cdots & v_nw_n    \\end{bmatrix} $$"
   ]
  }
 ],
 "metadata": {
  "kernelspec": {
   "display_name": "Python 3",
   "language": "python",
   "name": "python3"
  },
  "language_info": {
   "codemirror_mode": {
    "name": "ipython",
    "version": 3
   },
   "file_extension": ".py",
   "mimetype": "text/x-python",
   "name": "python",
   "nbconvert_exporter": "python",
   "pygments_lexer": "ipython3",
   "version": "3.6.4"
  }
 },
 "nbformat": 4,
 "nbformat_minor": 2
}
