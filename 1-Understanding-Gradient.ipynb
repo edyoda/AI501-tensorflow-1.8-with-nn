{
 "cells": [
  {
   "cell_type": "markdown",
   "metadata": {},
   "source": [
    "# Gradients\n",
    "It represents derivative in case of multivariate function with respect to each variable.  It is a **vector** with each element being partial derivate with respect to the variables. We use the symbol nabla ($\\nabla$) to represent the operation.  \n",
    "\n",
    "Lets us consider $\\nabla f(x,y)$ at (2,3), where $f(x,y)=x^2+y^2$.\n",
    "\n",
    "$$\\nabla f(x,y) = \\begin{bmatrix}\\frac{\\partial}{\\partial x} \\\\ \\frac{\\partial}{\\partial y}  \\end{bmatrix}f(x,y)$$  \n",
    "#### What is this crazy symbol $\\partial $ ?\n",
    "It just means that you are taking derivate with respect to one of the variables treating the other one as constant.\n",
    "$$\\nabla (x^2+y^2) = \\begin{bmatrix} 2x\\\\ 2y  \\end{bmatrix}$$\n",
    "\n",
    "#### Interpreting Gradient Direction \n",
    "Direction of gradient gives me information about how the variables should change to make the function have larger value.\n",
    "  \n",
    "#### Interpreting Gradient Magnitude\n",
    "It gives me the total rate of change at a given point in domain. So if magnitude of gradient is higher than the function is changing steeply at that point\n",
    "\n",
    "![](img/gradient-01.png)"
   ]
  },
  {
   "cell_type": "code",
   "execution_count": null,
   "metadata": {},
   "outputs": [],
   "source": []
  }
 ],
 "metadata": {
  "kernelspec": {
   "display_name": "Python 3",
   "language": "python",
   "name": "python3"
  },
  "language_info": {
   "codemirror_mode": {
    "name": "ipython",
    "version": 3
   },
   "file_extension": ".py",
   "mimetype": "text/x-python",
   "name": "python",
   "nbconvert_exporter": "python",
   "pygments_lexer": "ipython3",
   "version": "3.6.4"
  }
 },
 "nbformat": 4,
 "nbformat_minor": 2
}
